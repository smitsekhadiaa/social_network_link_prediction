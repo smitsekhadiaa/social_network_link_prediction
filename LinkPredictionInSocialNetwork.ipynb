{
  "cells": [
    {
      "cell_type": "markdown",
      "metadata": {
        "id": "mWNPPB01USu3"
      },
      "source": [
        "# Importing the required libraries"
      ]
    },
    {
      "cell_type": "code",
      "execution_count": null,
      "metadata": {
        "id": "6Ck_GNoaLtUi"
      },
      "outputs": [],
      "source": [
        "import networkx as nx\n",
        "import random\n",
        "import math\n",
        "import csv\n",
        "import datetime\n",
        "import sklearn\n",
        "import numpy as np\n",
        "import pandas as pd\n",
        "import matplotlib.pyplot as plt\n",
        "import warnings\n",
        "warnings.filterwarnings(\"ignore\")"
      ]
    },
    {
      "cell_type": "code",
      "execution_count": null,
      "metadata": {
        "colab": {
          "base_uri": "https://localhost:8080/"
        },
        "id": "M2UHXWUacCUz",
        "outputId": "04d5c762-22e7-4dc9-b3c4-08f0844d8269"
      },
      "outputs": [
        {
          "output_type": "stream",
          "name": "stdout",
          "text": [
            "Drive already mounted at /content/drive; to attempt to forcibly remount, call drive.mount(\"/content/drive\", force_remount=True).\n"
          ]
        }
      ],
      "source": [
        "from google.colab import drive\n",
        "drive.mount('/content/drive')"
      ]
    },
    {
      "cell_type": "code",
      "execution_count": null,
      "metadata": {
        "colab": {
          "base_uri": "https://localhost:8080/"
        },
        "id": "kcpIwUTKcC3Z",
        "outputId": "ed90b0b1-a5c1-434d-97e2-66819fb8949a"
      },
      "outputs": [
        {
          "output_type": "stream",
          "name": "stdout",
          "text": [
            "/content/drive/MyDrive/dmdw_project\n"
          ]
        }
      ],
      "source": [
        "cd /content/drive/MyDrive/dmdw_project"
      ]
    },
    {
      "cell_type": "markdown",
      "metadata": {
        "id": "-rEyJnmec0qv"
      },
      "source": [
        "# EDA"
      ]
    },
    {
      "cell_type": "markdown",
      "metadata": {
        "id": "JinyOYaEbcog"
      },
      "source": [
        "# Reading the data file"
      ]
    },
    {
      "cell_type": "code",
      "execution_count": null,
      "metadata": {
        "colab": {
          "base_uri": "https://localhost:8080/",
          "height": 423
        },
        "id": "153sxw6Va44s",
        "outputId": "7f39b7e1-0006-451e-a396-b3ad58742942"
      },
      "outputs": [
        {
          "output_type": "execute_result",
          "data": {
            "text/plain": [
              "             0 1\n",
              "0            0 2\n",
              "1            0 3\n",
              "2            0 4\n",
              "3            0 5\n",
              "4            0 6\n",
              "...          ...\n",
              "88228  4026 4030\n",
              "88229  4027 4031\n",
              "88230  4027 4032\n",
              "88231  4027 4038\n",
              "88232  4031 4038\n",
              "\n",
              "[88233 rows x 1 columns]"
            ],
            "text/html": [
              "\n",
              "  <div id=\"df-cd95c753-fa39-4c1b-aca0-c24b80bd2877\" class=\"colab-df-container\">\n",
              "    <div>\n",
              "<style scoped>\n",
              "    .dataframe tbody tr th:only-of-type {\n",
              "        vertical-align: middle;\n",
              "    }\n",
              "\n",
              "    .dataframe tbody tr th {\n",
              "        vertical-align: top;\n",
              "    }\n",
              "\n",
              "    .dataframe thead th {\n",
              "        text-align: right;\n",
              "    }\n",
              "</style>\n",
              "<table border=\"1\" class=\"dataframe\">\n",
              "  <thead>\n",
              "    <tr style=\"text-align: right;\">\n",
              "      <th></th>\n",
              "      <th>0 1</th>\n",
              "    </tr>\n",
              "  </thead>\n",
              "  <tbody>\n",
              "    <tr>\n",
              "      <th>0</th>\n",
              "      <td>0 2</td>\n",
              "    </tr>\n",
              "    <tr>\n",
              "      <th>1</th>\n",
              "      <td>0 3</td>\n",
              "    </tr>\n",
              "    <tr>\n",
              "      <th>2</th>\n",
              "      <td>0 4</td>\n",
              "    </tr>\n",
              "    <tr>\n",
              "      <th>3</th>\n",
              "      <td>0 5</td>\n",
              "    </tr>\n",
              "    <tr>\n",
              "      <th>4</th>\n",
              "      <td>0 6</td>\n",
              "    </tr>\n",
              "    <tr>\n",
              "      <th>...</th>\n",
              "      <td>...</td>\n",
              "    </tr>\n",
              "    <tr>\n",
              "      <th>88228</th>\n",
              "      <td>4026 4030</td>\n",
              "    </tr>\n",
              "    <tr>\n",
              "      <th>88229</th>\n",
              "      <td>4027 4031</td>\n",
              "    </tr>\n",
              "    <tr>\n",
              "      <th>88230</th>\n",
              "      <td>4027 4032</td>\n",
              "    </tr>\n",
              "    <tr>\n",
              "      <th>88231</th>\n",
              "      <td>4027 4038</td>\n",
              "    </tr>\n",
              "    <tr>\n",
              "      <th>88232</th>\n",
              "      <td>4031 4038</td>\n",
              "    </tr>\n",
              "  </tbody>\n",
              "</table>\n",
              "<p>88233 rows × 1 columns</p>\n",
              "</div>\n",
              "    <div class=\"colab-df-buttons\">\n",
              "\n",
              "  <div class=\"colab-df-container\">\n",
              "    <button class=\"colab-df-convert\" onclick=\"convertToInteractive('df-cd95c753-fa39-4c1b-aca0-c24b80bd2877')\"\n",
              "            title=\"Convert this dataframe to an interactive table.\"\n",
              "            style=\"display:none;\">\n",
              "\n",
              "  <svg xmlns=\"http://www.w3.org/2000/svg\" height=\"24px\" viewBox=\"0 -960 960 960\">\n",
              "    <path d=\"M120-120v-720h720v720H120Zm60-500h600v-160H180v160Zm220 220h160v-160H400v160Zm0 220h160v-160H400v160ZM180-400h160v-160H180v160Zm440 0h160v-160H620v160ZM180-180h160v-160H180v160Zm440 0h160v-160H620v160Z\"/>\n",
              "  </svg>\n",
              "    </button>\n",
              "\n",
              "  <style>\n",
              "    .colab-df-container {\n",
              "      display:flex;\n",
              "      gap: 12px;\n",
              "    }\n",
              "\n",
              "    .colab-df-convert {\n",
              "      background-color: #E8F0FE;\n",
              "      border: none;\n",
              "      border-radius: 50%;\n",
              "      cursor: pointer;\n",
              "      display: none;\n",
              "      fill: #1967D2;\n",
              "      height: 32px;\n",
              "      padding: 0 0 0 0;\n",
              "      width: 32px;\n",
              "    }\n",
              "\n",
              "    .colab-df-convert:hover {\n",
              "      background-color: #E2EBFA;\n",
              "      box-shadow: 0px 1px 2px rgba(60, 64, 67, 0.3), 0px 1px 3px 1px rgba(60, 64, 67, 0.15);\n",
              "      fill: #174EA6;\n",
              "    }\n",
              "\n",
              "    .colab-df-buttons div {\n",
              "      margin-bottom: 4px;\n",
              "    }\n",
              "\n",
              "    [theme=dark] .colab-df-convert {\n",
              "      background-color: #3B4455;\n",
              "      fill: #D2E3FC;\n",
              "    }\n",
              "\n",
              "    [theme=dark] .colab-df-convert:hover {\n",
              "      background-color: #434B5C;\n",
              "      box-shadow: 0px 1px 3px 1px rgba(0, 0, 0, 0.15);\n",
              "      filter: drop-shadow(0px 1px 2px rgba(0, 0, 0, 0.3));\n",
              "      fill: #FFFFFF;\n",
              "    }\n",
              "  </style>\n",
              "\n",
              "    <script>\n",
              "      const buttonEl =\n",
              "        document.querySelector('#df-cd95c753-fa39-4c1b-aca0-c24b80bd2877 button.colab-df-convert');\n",
              "      buttonEl.style.display =\n",
              "        google.colab.kernel.accessAllowed ? 'block' : 'none';\n",
              "\n",
              "      async function convertToInteractive(key) {\n",
              "        const element = document.querySelector('#df-cd95c753-fa39-4c1b-aca0-c24b80bd2877');\n",
              "        const dataTable =\n",
              "          await google.colab.kernel.invokeFunction('convertToInteractive',\n",
              "                                                    [key], {});\n",
              "        if (!dataTable) return;\n",
              "\n",
              "        const docLinkHtml = 'Like what you see? Visit the ' +\n",
              "          '<a target=\"_blank\" href=https://colab.research.google.com/notebooks/data_table.ipynb>data table notebook</a>'\n",
              "          + ' to learn more about interactive tables.';\n",
              "        element.innerHTML = '';\n",
              "        dataTable['output_type'] = 'display_data';\n",
              "        await google.colab.output.renderOutput(dataTable, element);\n",
              "        const docLink = document.createElement('div');\n",
              "        docLink.innerHTML = docLinkHtml;\n",
              "        element.appendChild(docLink);\n",
              "      }\n",
              "    </script>\n",
              "  </div>\n",
              "\n",
              "\n",
              "<div id=\"df-d50cd14a-3a1e-4231-bb73-8492778b9206\">\n",
              "  <button class=\"colab-df-quickchart\" onclick=\"quickchart('df-d50cd14a-3a1e-4231-bb73-8492778b9206')\"\n",
              "            title=\"Suggest charts\"\n",
              "            style=\"display:none;\">\n",
              "\n",
              "<svg xmlns=\"http://www.w3.org/2000/svg\" height=\"24px\"viewBox=\"0 0 24 24\"\n",
              "     width=\"24px\">\n",
              "    <g>\n",
              "        <path d=\"M19 3H5c-1.1 0-2 .9-2 2v14c0 1.1.9 2 2 2h14c1.1 0 2-.9 2-2V5c0-1.1-.9-2-2-2zM9 17H7v-7h2v7zm4 0h-2V7h2v10zm4 0h-2v-4h2v4z\"/>\n",
              "    </g>\n",
              "</svg>\n",
              "  </button>\n",
              "\n",
              "<style>\n",
              "  .colab-df-quickchart {\n",
              "      --bg-color: #E8F0FE;\n",
              "      --fill-color: #1967D2;\n",
              "      --hover-bg-color: #E2EBFA;\n",
              "      --hover-fill-color: #174EA6;\n",
              "      --disabled-fill-color: #AAA;\n",
              "      --disabled-bg-color: #DDD;\n",
              "  }\n",
              "\n",
              "  [theme=dark] .colab-df-quickchart {\n",
              "      --bg-color: #3B4455;\n",
              "      --fill-color: #D2E3FC;\n",
              "      --hover-bg-color: #434B5C;\n",
              "      --hover-fill-color: #FFFFFF;\n",
              "      --disabled-bg-color: #3B4455;\n",
              "      --disabled-fill-color: #666;\n",
              "  }\n",
              "\n",
              "  .colab-df-quickchart {\n",
              "    background-color: var(--bg-color);\n",
              "    border: none;\n",
              "    border-radius: 50%;\n",
              "    cursor: pointer;\n",
              "    display: none;\n",
              "    fill: var(--fill-color);\n",
              "    height: 32px;\n",
              "    padding: 0;\n",
              "    width: 32px;\n",
              "  }\n",
              "\n",
              "  .colab-df-quickchart:hover {\n",
              "    background-color: var(--hover-bg-color);\n",
              "    box-shadow: 0 1px 2px rgba(60, 64, 67, 0.3), 0 1px 3px 1px rgba(60, 64, 67, 0.15);\n",
              "    fill: var(--button-hover-fill-color);\n",
              "  }\n",
              "\n",
              "  .colab-df-quickchart-complete:disabled,\n",
              "  .colab-df-quickchart-complete:disabled:hover {\n",
              "    background-color: var(--disabled-bg-color);\n",
              "    fill: var(--disabled-fill-color);\n",
              "    box-shadow: none;\n",
              "  }\n",
              "\n",
              "  .colab-df-spinner {\n",
              "    border: 2px solid var(--fill-color);\n",
              "    border-color: transparent;\n",
              "    border-bottom-color: var(--fill-color);\n",
              "    animation:\n",
              "      spin 1s steps(1) infinite;\n",
              "  }\n",
              "\n",
              "  @keyframes spin {\n",
              "    0% {\n",
              "      border-color: transparent;\n",
              "      border-bottom-color: var(--fill-color);\n",
              "      border-left-color: var(--fill-color);\n",
              "    }\n",
              "    20% {\n",
              "      border-color: transparent;\n",
              "      border-left-color: var(--fill-color);\n",
              "      border-top-color: var(--fill-color);\n",
              "    }\n",
              "    30% {\n",
              "      border-color: transparent;\n",
              "      border-left-color: var(--fill-color);\n",
              "      border-top-color: var(--fill-color);\n",
              "      border-right-color: var(--fill-color);\n",
              "    }\n",
              "    40% {\n",
              "      border-color: transparent;\n",
              "      border-right-color: var(--fill-color);\n",
              "      border-top-color: var(--fill-color);\n",
              "    }\n",
              "    60% {\n",
              "      border-color: transparent;\n",
              "      border-right-color: var(--fill-color);\n",
              "    }\n",
              "    80% {\n",
              "      border-color: transparent;\n",
              "      border-right-color: var(--fill-color);\n",
              "      border-bottom-color: var(--fill-color);\n",
              "    }\n",
              "    90% {\n",
              "      border-color: transparent;\n",
              "      border-bottom-color: var(--fill-color);\n",
              "    }\n",
              "  }\n",
              "</style>\n",
              "\n",
              "  <script>\n",
              "    async function quickchart(key) {\n",
              "      const quickchartButtonEl =\n",
              "        document.querySelector('#' + key + ' button');\n",
              "      quickchartButtonEl.disabled = true;  // To prevent multiple clicks.\n",
              "      quickchartButtonEl.classList.add('colab-df-spinner');\n",
              "      try {\n",
              "        const charts = await google.colab.kernel.invokeFunction(\n",
              "            'suggestCharts', [key], {});\n",
              "      } catch (error) {\n",
              "        console.error('Error during call to suggestCharts:', error);\n",
              "      }\n",
              "      quickchartButtonEl.classList.remove('colab-df-spinner');\n",
              "      quickchartButtonEl.classList.add('colab-df-quickchart-complete');\n",
              "    }\n",
              "    (() => {\n",
              "      let quickchartButtonEl =\n",
              "        document.querySelector('#df-d50cd14a-3a1e-4231-bb73-8492778b9206 button');\n",
              "      quickchartButtonEl.style.display =\n",
              "        google.colab.kernel.accessAllowed ? 'block' : 'none';\n",
              "    })();\n",
              "  </script>\n",
              "</div>\n",
              "    </div>\n",
              "  </div>\n"
            ]
          },
          "metadata": {},
          "execution_count": 4
        }
      ],
      "source": [
        "df = pd.read_csv('facebook_combined.txt', sep='\\t')\n",
        "df"
      ]
    },
    {
      "cell_type": "markdown",
      "metadata": {
        "id": "bg1LjFKCbg2n"
      },
      "source": [
        "# Plotting the network graph of the dataset"
      ]
    },
    {
      "cell_type": "code",
      "execution_count": null,
      "metadata": {
        "id": "yBlB5YRwLtUn"
      },
      "outputs": [],
      "source": [
        "def create_graph_from_file(filename):\n",
        "    print(\"----------------building graph--------------------\")\n",
        "    f = open(filename, \"rb\")\n",
        "    g = nx.read_edgelist(f)\n",
        "    return g"
      ]
    },
    {
      "cell_type": "code",
      "execution_count": null,
      "metadata": {
        "id": "N04rhuXDYmyd",
        "colab": {
          "base_uri": "https://localhost:8080/",
          "height": 533
        },
        "outputId": "41946e06-1657-4d58-9e58-aaa617ef019d"
      },
      "outputs": [
        {
          "output_type": "stream",
          "name": "stdout",
          "text": [
            "----------------building graph--------------------\n"
          ]
        },
        {
          "output_type": "display_data",
          "data": {
            "text/plain": [
              "<Figure size 640x480 with 1 Axes>"
            ],
            "image/png": "[encoded data removed]"
          },
          "metadata": {}
        }
      ],
      "source": [
        "digraph = create_graph_from_file('facebook_combined.txt')\n",
        "nx.draw(digraph)\n",
        "plt.show()\n",
        "digraph=digraph.to_directed()"
      ]
    },
    {
      "cell_type": "markdown",
      "metadata": {
        "id": "_NHa_asBh6v0"
      },
      "source": [
        "# Nodes and Edges in the graph"
      ]
    },
    {
      "cell_type": "code",
      "execution_count": null,
      "metadata": {
        "id": "Ys_-avdKetrJ",
        "colab": {
          "base_uri": "https://localhost:8080/"
        },
        "outputId": "ddac66cb-59f7-4201-ed70-8d9dda96aab5"
      },
      "outputs": [
        {
          "output_type": "stream",
          "name": "stdout",
          "text": [
            "DiGraph with 4039 nodes and 176468 edges\n"
          ]
        },
        {
          "output_type": "execute_result",
          "data": {
            "text/plain": [
              "networkx.classes.digraph.DiGraph"
            ]
          },
          "metadata": {},
          "execution_count": 7
        }
      ],
      "source": [
        "print(digraph)\n",
        "type(digraph)"
      ]
    },
    {
      "cell_type": "markdown",
      "metadata": {
        "id": "TxttmQqjc2_I"
      },
      "source": [
        "# No of followers of each person"
      ]
    },
    {
      "cell_type": "code",
      "execution_count": null,
      "metadata": {
        "id": "W0pmPIsbc_ao",
        "colab": {
          "base_uri": "https://localhost:8080/",
          "height": 559
        },
        "outputId": "7efab870-87dc-452f-9265-96dd1bbeea4f"
      },
      "outputs": [
        {
          "output_type": "display_data",
          "data": {
            "text/plain": [
              "<Figure size 1000x600 with 1 Axes>"
            ],
            "image/png": "[encoded data removed]"
          },
          "metadata": {}
        },
        {
          "output_type": "stream",
          "name": "stdout",
          "text": [
            "Node :  107 , Followers :  1045\n"
          ]
        }
      ],
      "source": [
        "indegree_dist = list(dict(digraph.in_degree()).values())\n",
        "plt.figure(figsize=(10,6))\n",
        "plt.plot(indegree_dist)\n",
        "plt.xlabel('Node number')\n",
        "plt.ylabel('No Of Followers')\n",
        "plt.show()\n",
        "print(\"Node : \" , indegree_dist.index(max(indegree_dist)),\", Followers : \", max(indegree_dist))"
      ]
    },
    {
      "cell_type": "markdown",
      "metadata": {
        "id": "kufKmFOdiSgn"
      },
      "source": [
        "# No of people each person is following"
      ]
    },
    {
      "cell_type": "code",
      "execution_count": null,
      "metadata": {
        "id": "qY4YIHcXiYCh",
        "colab": {
          "base_uri": "https://localhost:8080/",
          "height": 542
        },
        "outputId": "d30c0209-e8c4-40e0-a016-725d9ce6740d"
      },
      "outputs": [
        {
          "output_type": "display_data",
          "data": {
            "text/plain": [
              "<Figure size 1000x600 with 1 Axes>"
            ],
            "image/png": "[encoded data removed]"
          },
          "metadata": {}
        }
      ],
      "source": [
        "outdegree_dist = list(dict(digraph.out_degree()).values())\n",
        "plt.figure(figsize=(10,6))\n",
        "plt.plot(outdegree_dist)\n",
        "plt.xlabel('Node number')\n",
        "plt.ylabel('No Of people each person is following')\n",
        "plt.show()"
      ]
    },
    {
      "cell_type": "markdown",
      "metadata": {
        "id": "OqOswNxVagZz"
      },
      "source": [
        "# Creating false edges for supervised learning"
      ]
    },
    {
      "cell_type": "code",
      "execution_count": null,
      "metadata": {
        "id": "VVeTmprELtUn"
      },
      "outputs": [],
      "source": [
        "def produce_fake_edge(g, neg_g, num_test_edges):\n",
        "    i = 0\n",
        "    while i < num_test_edges:\n",
        "        edge = random.sample(g.nodes(), 2)  # choosing 2 random nodes from all nodes\n",
        "        try:\n",
        "            shortest_path = nx.shortest_path_length(g,source=edge[0],target=edge[1])\n",
        "            if shortest_path >= 2:  # require path length to be atleast 2 because path length 1 means direct true edge and not false edge\n",
        "                neg_g.add_edge(edge[0],edge[1], positive=\"False\")\n",
        "                i += 1\n",
        "        except:\n",
        "            pass"
      ]
    },
    {
      "cell_type": "markdown",
      "metadata": {
        "id": "xzN5gVcySbK4"
      },
      "source": [
        "# Similarity Based Techniques"
      ]
    },
    {
      "cell_type": "markdown",
      "metadata": {
        "id": "UQ0oqbpGQ_TP"
      },
      "source": [
        "# Common Neighbours"
      ]
    },
    {
      "cell_type": "markdown",
      "metadata": {
        "id": "F2rB1JGjSGDK"
      },
      "source": [
        "\\begin{equation}\n",
        "Common Neighbours = {N(x)\\cap N(y)}\n",
        "\\end{equation}"
      ]
    },
    {
      "cell_type": "code",
      "execution_count": null,
      "metadata": {
        "id": "TLgiRh5SLtUl"
      },
      "outputs": [],
      "source": [
        "def CommonNeighbors(u, v, g):\n",
        "    u_neighbors = set(g.neighbors(u))\n",
        "    v_neighbors = set(g.neighbors(v))\n",
        "    return len(u_neighbors.intersection(v_neighbors))\n",
        "\n",
        "def common_neighbors(g, edges):\n",
        "    result = []\n",
        "    for edge in edges:\n",
        "        node_one, node_two = edge[0], edge[1]\n",
        "        num_common_neighbors = 0\n",
        "        try:\n",
        "            neighbors_one, neighbors_two = g.neighbors(node_one), g.neighbors(node_two)\n",
        "            for neighbor in neighbors_one:\n",
        "                if neighbor in neighbors_two:\n",
        "                    num_common_neighbors += 1\n",
        "            result.append((node_one, node_two, num_common_neighbors))\n",
        "        except:\n",
        "            pass\n",
        "    return result"
      ]
    },
    {
      "cell_type": "markdown",
      "metadata": {
        "id": "jwNzoR1ESn2A"
      },
      "source": [
        "# Jaccard Coefficient"
      ]
    },
    {
      "cell_type": "markdown",
      "metadata": {
        "id": "aHFoccC6SpHF"
      },
      "source": [
        "\\begin{equation}\n",
        "j = \\frac{|N(x)\\cap N(y)|}{|N(x) \\cup N(y)|}\n",
        "\\end{equation}"
      ]
    },
    {
      "cell_type": "code",
      "execution_count": null,
      "metadata": {
        "id": "eXroE8lnLtUm"
      },
      "outputs": [],
      "source": [
        "def JaccardCoefficent(u, v, g):\n",
        "    u_neighbors = set(g.neighbors(u))\n",
        "    v_neighbors = set(g.neighbors(v))\n",
        "    return len(u_neighbors.intersection(v_neighbors)) / float(len(u_neighbors.union(v_neighbors)))"
      ]
    },
    {
      "cell_type": "markdown",
      "metadata": {
        "id": "6wZbWa1FS9rY"
      },
      "source": [
        "# Resource Allocation"
      ]
    },
    {
      "cell_type": "markdown",
      "metadata": {
        "id": "QOZJxuZHTAET"
      },
      "source": [
        "\\begin{equation}\n",
        "Resource Allocation = \\displaystyle\\sum_{u\\in N(x)\\cap N(y)} \\frac{1}{|N(u)|}\n",
        "\\end{equation}"
      ]
    },
    {
      "cell_type": "code",
      "execution_count": null,
      "metadata": {
        "id": "2mKUNIbXLtUm"
      },
      "outputs": [],
      "source": [
        "def ResourceAllocation(u, v, g):\n",
        "    u_neighbors = set(g.neighbors(u))\n",
        "    v_neighbors = set(g.neighbors(v))\n",
        "    ra = 0\n",
        "    for i in u_neighbors.intersection(v_neighbors): # for each common neighbour of u and v\n",
        "        ra += 1 / float(len(g.neighbors(i)))\n",
        "    return ra"
      ]
    },
    {
      "cell_type": "markdown",
      "metadata": {
        "id": "YBtrnVe5REuI"
      },
      "source": [
        "# Adamic Adar Index"
      ]
    },
    {
      "cell_type": "markdown",
      "metadata": {
        "id": "JLm78EBxRxZp"
      },
      "source": [
        "\\begin{equation}\n",
        "A = \\displaystyle\\sum_{u\\in N(x)\\cap N(y)} \\frac{1}{log|N(u)|}\n",
        "\\end{equation}"
      ]
    },
    {
      "cell_type": "code",
      "execution_count": null,
      "metadata": {
        "id": "CwVtnnGBLtUl"
      },
      "outputs": [],
      "source": [
        "def AdamicAdar(u, v, g):\n",
        "    u_neighbors = set(g.neighbors(u))\n",
        "    v_neighbors = set(g.neighbors(v))\n",
        "    adamicAdarIndex = 0\n",
        "    for i in u_neighbors.intersection(v_neighbors):  # for each common neighbour of u and v\n",
        "        adamicAdarIndex += 1 / math.log(len(g.neighbors(i)))\n",
        "    return adamicAdarIndex"
      ]
    },
    {
      "cell_type": "markdown",
      "metadata": {
        "id": "ompmVPNbUNNb"
      },
      "source": [
        "# Preferential Attachment"
      ]
    },
    {
      "cell_type": "markdown",
      "metadata": {
        "id": "wyiY7gS2T4zr"
      },
      "source": [
        "\\begin{equation}\n",
        "Preferential Attachment = {|N(x)||N(y)|}\n",
        "\\end{equation}"
      ]
    },
    {
      "cell_type": "code",
      "execution_count": null,
      "metadata": {
        "id": "2AqBY6JzLtUm"
      },
      "outputs": [],
      "source": [
        "def PreferentialAttachment(u, v, g):\n",
        "    return len(g.neighbors(u))*len(g.neighbors(v))"
      ]
    },
    {
      "cell_type": "markdown",
      "metadata": {
        "id": "udXu152WV25w"
      },
      "source": [
        "# All the features combined"
      ]
    },
    {
      "cell_type": "code",
      "execution_count": null,
      "metadata": {
        "id": "zgvMK2bALtUm"
      },
      "outputs": [],
      "source": [
        "def AllFeatures(u,v, g1, g2):\n",
        "    try:\n",
        "        cn = CommonNeighbors(u, v, g2)\n",
        "        aa = AdamicAdar(u, v, g2)\n",
        "        ra = ResourceAllocation(u, v, g2)\n",
        "        jc = JaccardCoefficent(u, v, g2)\n",
        "        pa = PreferentialAttachment(u, v, g2)\n",
        "\n",
        "        delta_cn = cn - CommonNeighbors(u, v, g1)\n",
        "        delta_aa = aa - AdamicAdar(u, v, g1)\n",
        "        delta_ra = ra - ResourceAllocation(u, v, g1)\n",
        "        delta_jc = jc - JaccardCoefficent(u, v, g1)\n",
        "        delta_pa = pa - PreferentialAttachment(u, v, g1)\n",
        "        return {\"cn\":cn, \"aa\": aa, \"ra\":ra, \"jc\":jc, \"pa\":pa,\n",
        "            \"delta_cn\": delta_cn, \"delta_aa\": delta_aa, \"delta_ra\": delta_ra,\n",
        "             \"delta_jc\": delta_jc, \"delta_pa\": delta_pa}\n",
        "    except:\n",
        "        pass"
      ]
    },
    {
      "cell_type": "markdown",
      "metadata": {
        "id": "RabnmH8lWCU6"
      },
      "source": [
        "# Expanded feature set"
      ]
    },
    {
      "cell_type": "code",
      "execution_count": null,
      "metadata": {
        "id": "vQWoizqILtUn"
      },
      "outputs": [],
      "source": [
        "feature_set = [common_neighbors,nx.resource_allocation_index,\n",
        "               nx.jaccard_coefficient,nx.adamic_adar_index,\n",
        "               nx.preferential_attachment]"
      ]
    },
    {
      "cell_type": "markdown",
      "metadata": {
        "id": "gCSy1S5wny3u"
      },
      "source": [
        "# Separating the postive and negative edges for testing dataset"
      ]
    },
    {
      "cell_type": "code",
      "execution_count": null,
      "metadata": {
        "id": "EyqPjC5ILtUo"
      },
      "outputs": [],
      "source": [
        "def sample_extraction(g, pos_num, neg_num, neg_mode):\n",
        "    \"\"\"\n",
        "\n",
        "    :param g:  the graph\n",
        "    :param pos_num: the number of positive samples\n",
        "    :param neg_num: the number of negative samples\n",
        "    :return: pos_sample is a list of positive edges, neg_sample is a list of negative edges\n",
        "    \"\"\"\n",
        "\n",
        "    print(\"----------------extract positive samples--------------------\")\n",
        "    # randomly select pos_num as test edges\n",
        "    pos_sample = random.sample(g.edges(), pos_num)\n",
        "    sample_g = nx.Graph()\n",
        "    sample_g.add_edges_from(pos_sample, positive=\"True\")\n",
        "    nx.write_edgelist(sample_g, \"sample_positive_\" +str(pos_num)+ \".txt\", data=['positive'])\n",
        "\n",
        "    # adding non-existing edges\n",
        "    print(\"----------------extract negative samples--------------------\")\n",
        "    i = 0\n",
        "    neg_g = nx.Graph()\n",
        "    produce_fake_edge(g,neg_g,neg_num)\n",
        "    nx.write_edgelist(neg_g, \"sample_negative_\" +str(neg_num)+ \".txt\", data=[\"positive\"])\n",
        "    neg_sample = neg_g.edges()\n",
        "    neg_g.add_edges_from(pos_sample,positive=\"True\")\n",
        "    nx.write_edgelist(neg_g, \"sample_combine_\" +str(pos_num + neg_num)+ \".txt\", data=[\"positive\"])\n",
        "\n",
        "    return pos_sample, neg_sample"
      ]
    },
    {
      "cell_type": "markdown",
      "metadata": {
        "id": "oB98-XpzwdzJ"
      },
      "source": [
        "# Feature expansion for each pair of nodes"
      ]
    },
    {
      "cell_type": "code",
      "execution_count": null,
      "metadata": {
        "id": "E-rNk9cELtUo"
      },
      "outputs": [],
      "source": [
        "def feature_extraction(g, pos_sample, neg_sample, feature_name, model=\"single\"):\n",
        "    data = []\n",
        "    label = [\"label\"] + [\"1\" for i in range(len(pos_sample))] + [\"0\" for i in range(len(neg_sample))]\n",
        "    for j in feature_name:\n",
        "        print (\"-----extract feature:\", j.__name__, \"----------\")\n",
        "        preds = j(g, pos_sample)\n",
        "        feature = [j.__name__] + [i[2] for i in preds]\n",
        "        preds = j(g, neg_sample)\n",
        "        feature = feature + [i[2] for i in preds]\n",
        "        data.append(feature)\n",
        "\n",
        "    data.append(label)\n",
        "    data = transpose(data)\n",
        "    print(\"----------write the features to file---------------\")\n",
        "    write_data_to_file(data, \"features_\" + model + \"_\" + \".csv\")\n",
        "    return data\n",
        "\n",
        "\n",
        "def write_data_to_file(data, filename):\n",
        "    csvfile = open(filename, \"w\")\n",
        "    writer = csv.writer(csvfile)\n",
        "    for i in data:\n",
        "        writer.writerow(i)\n",
        "    csvfile.close()\n",
        "\n",
        "\n",
        "def transpose(data):\n",
        "    return [list(i) for i in zip(*data)]"
      ]
    },
    {
      "cell_type": "markdown",
      "metadata": {
        "id": "oAqcJmIHzGNZ"
      },
      "source": [
        "# Main function"
      ]
    },
    {
      "cell_type": "code",
      "execution_count": null,
      "metadata": {
        "id": "M4TzgPnHLtUp"
      },
      "outputs": [],
      "source": [
        "def main(filename, model,feature_name, neg_mode, pos_num=0.008, neg_num=0.008):\n",
        "    g = create_graph_from_file(filename)\n",
        "    num_edges = g.number_of_edges()\n",
        "    pos_num = int(num_edges * pos_num)\n",
        "    neg_num = int(num_edges * neg_num)\n",
        "    pos_sample, neg_sample = sample_extraction(g, pos_num, neg_num,neg_mode)\n",
        "    train_data = feature_extraction(g, pos_sample, neg_sample, feature_name, model)\n"
      ]
    },
    {
      "cell_type": "code",
      "execution_count": null,
      "metadata": {
        "id": "msrLmqPmLtUp",
        "colab": {
          "base_uri": "https://localhost:8080/"
        },
        "outputId": "f42117e6-5d81-4877-cb81-49df823a4b66"
      },
      "outputs": [
        {
          "output_type": "stream",
          "name": "stdout",
          "text": [
            "----------------building graph--------------------\n",
            "----------------extract positive samples--------------------\n",
            "----------------extract negative samples--------------------\n",
            "-----extract feature: common_neighbors ----------\n",
            "-----extract feature: resource_allocation_index ----------\n",
            "-----extract feature: jaccard_coefficient ----------\n",
            "-----extract feature: adamic_adar_index ----------\n",
            "-----extract feature: preferential_attachment ----------\n",
            "----------write the features to file---------------\n"
          ]
        }
      ],
      "source": [
        "#Run this line to genrate feature Set\n",
        "main(filename=\"facebook_combined.txt\",model=\"combined\",feature_name=feature_set, neg_mode=\"easy\")"
      ]
    },
    {
      "cell_type": "code",
      "execution_count": null,
      "metadata": {
        "id": "dcEVBfuYyhe1",
        "colab": {
          "base_uri": "https://localhost:8080/",
          "height": 206
        },
        "outputId": "dbe8ef9f-cc76-4676-cc3e-bd366a5b7915"
      },
      "outputs": [
        {
          "output_type": "execute_result",
          "data": {
            "text/plain": [
              "   common_neighbors  resource_allocation_index  jaccard_coefficient  \\\n",
              "0                 0                   0.653051             0.382353   \n",
              "1                 1                   0.109540             0.105263   \n",
              "2                 6                   0.658889             0.396694   \n",
              "3                 1                   0.269779             0.160377   \n",
              "4                 0                   0.484412             0.321429   \n",
              "\n",
              "   adamic_adar_index  preferential_attachment  label  \n",
              "0          11.655572                     7611      1  \n",
              "1           1.434998                      902      1  \n",
              "2          11.108621                     6634      1  \n",
              "3           4.017787                     2660      1  \n",
              "4           8.253637                     5460      1  "
            ],
            "text/html": [
              "\n",
              "  <div id=\"df-70b58aef-de0f-402c-a80c-cb2bbda4138d\" class=\"colab-df-container\">\n",
              "    <div>\n",
              "<style scoped>\n",
              "    .dataframe tbody tr th:only-of-type {\n",
              "        vertical-align: middle;\n",
              "    }\n",
              "\n",
              "    .dataframe tbody tr th {\n",
              "        vertical-align: top;\n",
              "    }\n",
              "\n",
              "    .dataframe thead th {\n",
              "        text-align: right;\n",
              "    }\n",
              "</style>\n",
              "<table border=\"1\" class=\"dataframe\">\n",
              "  <thead>\n",
              "    <tr style=\"text-align: right;\">\n",
              "      <th></th>\n",
              "      <th>common_neighbors</th>\n",
              "      <th>resource_allocation_index</th>\n",
              "      <th>jaccard_coefficient</th>\n",
              "      <th>adamic_adar_index</th>\n",
              "      <th>preferential_attachment</th>\n",
              "      <th>label</th>\n",
              "    </tr>\n",
              "  </thead>\n",
              "  <tbody>\n",
              "    <tr>\n",
              "      <th>0</th>\n",
              "      <td>0</td>\n",
              "      <td>0.653051</td>\n",
              "      <td>0.382353</td>\n",
              "      <td>11.655572</td>\n",
              "      <td>7611</td>\n",
              "      <td>1</td>\n",
              "    </tr>\n",
              "    <tr>\n",
              "      <th>1</th>\n",
              "      <td>1</td>\n",
              "      <td>0.109540</td>\n",
              "      <td>0.105263</td>\n",
              "      <td>1.434998</td>\n",
              "      <td>902</td>\n",
              "      <td>1</td>\n",
              "    </tr>\n",
              "    <tr>\n",
              "      <th>2</th>\n",
              "      <td>6</td>\n",
              "      <td>0.658889</td>\n",
              "      <td>0.396694</td>\n",
              "      <td>11.108621</td>\n",
              "      <td>6634</td>\n",
              "      <td>1</td>\n",
              "    </tr>\n",
              "    <tr>\n",
              "      <th>3</th>\n",
              "      <td>1</td>\n",
              "      <td>0.269779</td>\n",
              "      <td>0.160377</td>\n",
              "      <td>4.017787</td>\n",
              "      <td>2660</td>\n",
              "      <td>1</td>\n",
              "    </tr>\n",
              "    <tr>\n",
              "      <th>4</th>\n",
              "      <td>0</td>\n",
              "      <td>0.484412</td>\n",
              "      <td>0.321429</td>\n",
              "      <td>8.253637</td>\n",
              "      <td>5460</td>\n",
              "      <td>1</td>\n",
              "    </tr>\n",
              "  </tbody>\n",
              "</table>\n",
              "</div>\n",
              "    <div class=\"colab-df-buttons\">\n",
              "\n",
              "  <div class=\"colab-df-container\">\n",
              "    <button class=\"colab-df-convert\" onclick=\"convertToInteractive('df-70b58aef-de0f-402c-a80c-cb2bbda4138d')\"\n",
              "            title=\"Convert this dataframe to an interactive table.\"\n",
              "            style=\"display:none;\">\n",
              "\n",
              "  <svg xmlns=\"http://www.w3.org/2000/svg\" height=\"24px\" viewBox=\"0 -960 960 960\">\n",
              "    <path d=\"M120-120v-720h720v720H120Zm60-500h600v-160H180v160Zm220 220h160v-160H400v160Zm0 220h160v-160H400v160ZM180-400h160v-160H180v160Zm440 0h160v-160H620v160ZM180-180h160v-160H180v160Zm440 0h160v-160H620v160Z\"/>\n",
              "  </svg>\n",
              "    </button>\n",
              "\n",
              "  <style>\n",
              "    .colab-df-container {\n",
              "      display:flex;\n",
              "      gap: 12px;\n",
              "    }\n",
              "\n",
              "    .colab-df-convert {\n",
              "      background-color: #E8F0FE;\n",
              "      border: none;\n",
              "      border-radius: 50%;\n",
              "      cursor: pointer;\n",
              "      display: none;\n",
              "      fill: #1967D2;\n",
              "      height: 32px;\n",
              "      padding: 0 0 0 0;\n",
              "      width: 32px;\n",
              "    }\n",
              "\n",
              "    .colab-df-convert:hover {\n",
              "      background-color: #E2EBFA;\n",
              "      box-shadow: 0px 1px 2px rgba(60, 64, 67, 0.3), 0px 1px 3px 1px rgba(60, 64, 67, 0.15);\n",
              "      fill: #174EA6;\n",
              "    }\n",
              "\n",
              "    .colab-df-buttons div {\n",
              "      margin-bottom: 4px;\n",
              "    }\n",
              "\n",
              "    [theme=dark] .colab-df-convert {\n",
              "      background-color: #3B4455;\n",
              "      fill: #D2E3FC;\n",
              "    }\n",
              "\n",
              "    [theme=dark] .colab-df-convert:hover {\n",
              "      background-color: #434B5C;\n",
              "      box-shadow: 0px 1px 3px 1px rgba(0, 0, 0, 0.15);\n",
              "      filter: drop-shadow(0px 1px 2px rgba(0, 0, 0, 0.3));\n",
              "      fill: #FFFFFF;\n",
              "    }\n",
              "  </style>\n",
              "\n",
              "    <script>\n",
              "      const buttonEl =\n",
              "        document.querySelector('#df-70b58aef-de0f-402c-a80c-cb2bbda4138d button.colab-df-convert');\n",
              "      buttonEl.style.display =\n",
              "        google.colab.kernel.accessAllowed ? 'block' : 'none';\n",
              "\n",
              "      async function convertToInteractive(key) {\n",
              "        const element = document.querySelector('#df-70b58aef-de0f-402c-a80c-cb2bbda4138d');\n",
              "        const dataTable =\n",
              "          await google.colab.kernel.invokeFunction('convertToInteractive',\n",
              "                                                    [key], {});\n",
              "        if (!dataTable) return;\n",
              "\n",
              "        const docLinkHtml = 'Like what you see? Visit the ' +\n",
              "          '<a target=\"_blank\" href=https://colab.research.google.com/notebooks/data_table.ipynb>data table notebook</a>'\n",
              "          + ' to learn more about interactive tables.';\n",
              "        element.innerHTML = '';\n",
              "        dataTable['output_type'] = 'display_data';\n",
              "        await google.colab.output.renderOutput(dataTable, element);\n",
              "        const docLink = document.createElement('div');\n",
              "        docLink.innerHTML = docLinkHtml;\n",
              "        element.appendChild(docLink);\n",
              "      }\n",
              "    </script>\n",
              "  </div>\n",
              "\n",
              "\n",
              "<div id=\"df-872da412-4362-4ea4-9b9a-bedc4e1f0f6f\">\n",
              "  <button class=\"colab-df-quickchart\" onclick=\"quickchart('df-872da412-4362-4ea4-9b9a-bedc4e1f0f6f')\"\n",
              "            title=\"Suggest charts\"\n",
              "            style=\"display:none;\">\n",
              "\n",
              "<svg xmlns=\"http://www.w3.org/2000/svg\" height=\"24px\"viewBox=\"0 0 24 24\"\n",
              "     width=\"24px\">\n",
              "    <g>\n",
              "        <path d=\"M19 3H5c-1.1 0-2 .9-2 2v14c0 1.1.9 2 2 2h14c1.1 0 2-.9 2-2V5c0-1.1-.9-2-2-2zM9 17H7v-7h2v7zm4 0h-2V7h2v10zm4 0h-2v-4h2v4z\"/>\n",
              "    </g>\n",
              "</svg>\n",
              "  </button>\n",
              "\n",
              "<style>\n",
              "  .colab-df-quickchart {\n",
              "      --bg-color: #E8F0FE;\n",
              "      --fill-color: #1967D2;\n",
              "      --hover-bg-color: #E2EBFA;\n",
              "      --hover-fill-color: #174EA6;\n",
              "      --disabled-fill-color: #AAA;\n",
              "      --disabled-bg-color: #DDD;\n",
              "  }\n",
              "\n",
              "  [theme=dark] .colab-df-quickchart {\n",
              "      --bg-color: #3B4455;\n",
              "      --fill-color: #D2E3FC;\n",
              "      --hover-bg-color: #434B5C;\n",
              "      --hover-fill-color: #FFFFFF;\n",
              "      --disabled-bg-color: #3B4455;\n",
              "      --disabled-fill-color: #666;\n",
              "  }\n",
              "\n",
              "  .colab-df-quickchart {\n",
              "    background-color: var(--bg-color);\n",
              "    border: none;\n",
              "    border-radius: 50%;\n",
              "    cursor: pointer;\n",
              "    display: none;\n",
              "    fill: var(--fill-color);\n",
              "    height: 32px;\n",
              "    padding: 0;\n",
              "    width: 32px;\n",
              "  }\n",
              "\n",
              "  .colab-df-quickchart:hover {\n",
              "    background-color: var(--hover-bg-color);\n",
              "    box-shadow: 0 1px 2px rgba(60, 64, 67, 0.3), 0 1px 3px 1px rgba(60, 64, 67, 0.15);\n",
              "    fill: var(--button-hover-fill-color);\n",
              "  }\n",
              "\n",
              "  .colab-df-quickchart-complete:disabled,\n",
              "  .colab-df-quickchart-complete:disabled:hover {\n",
              "    background-color: var(--disabled-bg-color);\n",
              "    fill: var(--disabled-fill-color);\n",
              "    box-shadow: none;\n",
              "  }\n",
              "\n",
              "  .colab-df-spinner {\n",
              "    border: 2px solid var(--fill-color);\n",
              "    border-color: transparent;\n",
              "    border-bottom-color: var(--fill-color);\n",
              "    animation:\n",
              "      spin 1s steps(1) infinite;\n",
              "  }\n",
              "\n",
              "  @keyframes spin {\n",
              "    0% {\n",
              "      border-color: transparent;\n",
              "      border-bottom-color: var(--fill-color);\n",
              "      border-left-color: var(--fill-color);\n",
              "    }\n",
              "    20% {\n",
              "      border-color: transparent;\n",
              "      border-left-color: var(--fill-color);\n",
              "      border-top-color: var(--fill-color);\n",
              "    }\n",
              "    30% {\n",
              "      border-color: transparent;\n",
              "      border-left-color: var(--fill-color);\n",
              "      border-top-color: var(--fill-color);\n",
              "      border-right-color: var(--fill-color);\n",
              "    }\n",
              "    40% {\n",
              "      border-color: transparent;\n",
              "      border-right-color: var(--fill-color);\n",
              "      border-top-color: var(--fill-color);\n",
              "    }\n",
              "    60% {\n",
              "      border-color: transparent;\n",
              "      border-right-color: var(--fill-color);\n",
              "    }\n",
              "    80% {\n",
              "      border-color: transparent;\n",
              "      border-right-color: var(--fill-color);\n",
              "      border-bottom-color: var(--fill-color);\n",
              "    }\n",
              "    90% {\n",
              "      border-color: transparent;\n",
              "      border-bottom-color: var(--fill-color);\n",
              "    }\n",
              "  }\n",
              "</style>\n",
              "\n",
              "  <script>\n",
              "    async function quickchart(key) {\n",
              "      const quickchartButtonEl =\n",
              "        document.querySelector('#' + key + ' button');\n",
              "      quickchartButtonEl.disabled = true;  // To prevent multiple clicks.\n",
              "      quickchartButtonEl.classList.add('colab-df-spinner');\n",
              "      try {\n",
              "        const charts = await google.colab.kernel.invokeFunction(\n",
              "            'suggestCharts', [key], {});\n",
              "      } catch (error) {\n",
              "        console.error('Error during call to suggestCharts:', error);\n",
              "      }\n",
              "      quickchartButtonEl.classList.remove('colab-df-spinner');\n",
              "      quickchartButtonEl.classList.add('colab-df-quickchart-complete');\n",
              "    }\n",
              "    (() => {\n",
              "      let quickchartButtonEl =\n",
              "        document.querySelector('#df-872da412-4362-4ea4-9b9a-bedc4e1f0f6f button');\n",
              "      quickchartButtonEl.style.display =\n",
              "        google.colab.kernel.accessAllowed ? 'block' : 'none';\n",
              "    })();\n",
              "  </script>\n",
              "</div>\n",
              "    </div>\n",
              "  </div>\n"
            ]
          },
          "metadata": {},
          "execution_count": 71
        }
      ],
      "source": [
        "df=pd.read_csv('features_combined_.csv', sep=',')\n",
        "df.head()"
      ]
    },
    {
      "cell_type": "code",
      "execution_count": null,
      "metadata": {
        "id": "fPxAChODLtUq"
      },
      "outputs": [],
      "source": [
        "r=np.loadtxt(open(\"features_combined_\"+\".csv\", \"rb\"), delimiter=\",\", skiprows=1);\n",
        "r.shape\n",
        "l,b=r.shape;"
      ]
    },
    {
      "cell_type": "code",
      "execution_count": null,
      "metadata": {
        "id": "N8CIk17FLtUq"
      },
      "outputs": [],
      "source": [
        "np.random.shuffle(r);"
      ]
    },
    {
      "cell_type": "markdown",
      "metadata": {
        "id": "TFgf0gEEzosY"
      },
      "source": [
        "# Train & Test split in ratio 75:25"
      ]
    },
    {
      "cell_type": "code",
      "execution_count": null,
      "metadata": {
        "id": "3pXJlONLLtUr"
      },
      "outputs": [],
      "source": [
        "train_l=int(0.75*l)\n",
        "X_train=r[0:train_l,0:b-1]\n",
        "Y_train=r[0:train_l,b-1]\n",
        "X_test=r[train_l:l,0:b-1]\n",
        "Y_test=r[train_l:l,b-1]"
      ]
    },
    {
      "cell_type": "markdown",
      "metadata": {
        "id": "q3_mfDHO0Aqf"
      },
      "source": [
        "# Normalizing the train and test datasets for various features"
      ]
    },
    {
      "cell_type": "code",
      "execution_count": null,
      "metadata": {
        "id": "SFlAgDhIz6Xm"
      },
      "outputs": [],
      "source": [
        "from sklearn.preprocessing import normalize, StandardScaler\n",
        "X_train = normalize(X_train, axis=0, norm='max')\n",
        "X_test = normalize(X_test, axis=0, norm='max')\n",
        "scaler = StandardScaler()\n",
        "scaler.fit(X_train)\n",
        "X_train = scaler.transform(X_train)\n",
        "X_test = scaler.transform(X_test)"
      ]
    },
    {
      "cell_type": "markdown",
      "source": [
        "# Classification through ML models"
      ],
      "metadata": {
        "id": "uTEzv-ar4pU_"
      }
    },
    {
      "cell_type": "markdown",
      "source": [
        "# SVM"
      ],
      "metadata": {
        "id": "VWQPb4d34sZX"
      }
    },
    {
      "cell_type": "code",
      "execution_count": null,
      "metadata": {
        "id": "RZQX9EUqLtUr"
      },
      "outputs": [],
      "source": [
        "from sklearn import svm\n",
        "from sklearn.metrics import accuracy_score\n",
        "def mySvm(training, training_labels, testing, testing_labels):\n",
        "    #Support Vector Machine\n",
        "    clf = svm.SVC()\n",
        "    clf.fit(training, training_labels)\n",
        "    print (\"+++++++++ Finishing training the SVM classifier ++++++++++++\")\n",
        "    result = clf.predict(testing)\n",
        "\n",
        "    print (\"SVM accuracy:\", accuracy_score(testing_labels, result))\n",
        "    return result"
      ]
    },
    {
      "cell_type": "code",
      "execution_count": null,
      "metadata": {
        "id": "YyCXl8kjLtUr",
        "colab": {
          "base_uri": "https://localhost:8080/"
        },
        "outputId": "d326a0f9-3d8d-470d-a3f6-99ed970eebab"
      },
      "outputs": [
        {
          "output_type": "stream",
          "name": "stdout",
          "text": [
            "+++++++++ Finishing training the SVM classifier ++++++++++++\n",
            "SVM accuracy: 0.6483931947069943\n"
          ]
        }
      ],
      "source": [
        "#Run this to for SVM classification\n",
        "result=mySvm(X_train,Y_train,X_test,Y_test)"
      ]
    },
    {
      "cell_type": "markdown",
      "source": [
        "# Logistic Regression"
      ],
      "metadata": {
        "id": "lKIcdvW_4u4U"
      }
    },
    {
      "cell_type": "code",
      "execution_count": null,
      "metadata": {
        "id": "VRZrlWlALtUr"
      },
      "outputs": [],
      "source": [
        "from sklearn.linear_model import LogisticRegression\n",
        "def logistic(training, training_labels, testing, testing_labels):\n",
        "    clf = LogisticRegression().fit(training, training_labels)\n",
        "    clf.fit(training, training_labels)\n",
        "    result=clf.predict(testing)\n",
        "    print (\"+++++++++ Finishing training the Linear classifier ++++++++++++\")\n",
        "    print (\"Linear accuracy:\", accuracy_score(testing_labels, result))\n",
        "    return result"
      ]
    },
    {
      "cell_type": "code",
      "execution_count": null,
      "metadata": {
        "id": "48ctD6mRLtUr",
        "colab": {
          "base_uri": "https://localhost:8080/"
        },
        "outputId": "0b6a81bd-8272-4bc0-c3d1-aba89edc043c"
      },
      "outputs": [
        {
          "output_type": "stream",
          "name": "stdout",
          "text": [
            "+++++++++ Finishing training the Linear classifier ++++++++++++\n",
            "Linear accuracy: 0.6843100189035917\n"
          ]
        }
      ],
      "source": [
        "#Run this for Logistic Regression\n",
        "result=logistic(X_train,Y_train,X_test,Y_test)"
      ]
    },
    {
      "cell_type": "markdown",
      "source": [
        "# ANN"
      ],
      "metadata": {
        "id": "fsbTQ_vj4xbR"
      }
    },
    {
      "cell_type": "code",
      "execution_count": null,
      "metadata": {
        "id": "hxQ7WGVqLtUs"
      },
      "outputs": [],
      "source": [
        "from sklearn.neural_network import MLPClassifier\n",
        "def ANN(training, training_labels, testing, testing_labels):\n",
        "    clf = MLPClassifier(solver='adam', alpha=1e-5,hidden_layer_sizes=(15,9), random_state=1)\n",
        "    clf.fit(training, training_labels)\n",
        "    print (\"+++++++++ Finishing training the ANN classifier ++++++++++++\")\n",
        "    result = clf.predict(testing)\n",
        "    print (\"ANN accuracy:\", accuracy_score(testing_labels, result))"
      ]
    },
    {
      "cell_type": "code",
      "execution_count": null,
      "metadata": {
        "id": "NO7Ivg3cLtUs",
        "colab": {
          "base_uri": "https://localhost:8080/"
        },
        "outputId": "594cb91e-0575-4354-b2e1-7041d7617f24"
      },
      "outputs": [
        {
          "output_type": "stream",
          "name": "stdout",
          "text": [
            "+++++++++ Finishing training the ANN classifier ++++++++++++\n",
            "ANN accuracy: 0.6616257088846881\n"
          ]
        }
      ],
      "source": [
        "# Run this for ANN classification\n",
        "ANN(X_train,Y_train,X_test,Y_test)"
      ]
    }
  ],
  "metadata": {
    "colab": {
      "provenance": []
    },
    "kernelspec": {
      "display_name": "Python 3",
      "language": "python",
      "name": "python3"
    },
    "language_info": {
      "codemirror_mode": {
        "name": "ipython",
        "version": 3
      },
      "file_extension": ".py",
      "mimetype": "text/x-python",
      "name": "python",
      "nbconvert_exporter": "python",
      "pygments_lexer": "ipython3",
      "version": "3.6.5"
    }
  },
  "nbformat": 4,
  "nbformat_minor": 0
}